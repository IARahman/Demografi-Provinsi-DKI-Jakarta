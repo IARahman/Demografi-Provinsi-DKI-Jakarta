{
 "cells": [
  {
   "cell_type": "code",
   "execution_count": null,
   "metadata": {},
   "outputs": [],
   "source": [
    "import pandas as pd"
   ]
  },
  {
   "cell_type": "code",
   "execution_count": null,
   "metadata": {},
   "outputs": [],
   "source": [
    "ds = pd.read_csv('https://raw.githubusercontent.com/IARahman/GA3-Files/main/winequalityN.csv')\n",
    "pd.set_option('display.max.columns', None)"
   ]
  }
 ],
 "metadata": {
  "kernelspec": {
   "display_name": "Python 3.9.12 ('base')",
   "language": "python",
   "name": "python3"
  },
  "language_info": {
   "name": "python",
   "version": "3.9.12"
  },
  "orig_nbformat": 4,
  "vscode": {
   "interpreter": {
    "hash": "8729cc833bbf327f7266d01ded31405701701a7d3e257bb9fce582aaef9de1ab"
   }
  }
 },
 "nbformat": 4,
 "nbformat_minor": 2
}
